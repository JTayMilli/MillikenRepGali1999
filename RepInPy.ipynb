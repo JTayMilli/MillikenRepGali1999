{
 "cells": [
  {
   "cell_type": "code",
   "execution_count": 1,
   "metadata": {},
   "outputs": [],
   "source": [
    "import pandas as pd\n",
    "import numpy as np\n",
    "import matplotlib.pyplot as plt\n",
    "import seaborn as sns\n",
    "from statsmodels.tsa.api import VAR\n",
    "from statsmodels.tsa.filters.hp_filter import hpfilter\n",
    "from scipy.stats import norm"
   ]
  },
  {
   "cell_type": "code",
   "execution_count": 38,
   "metadata": {},
   "outputs": [],
   "source": [
    "from svarlr import varlr, irflr, cor, bootstrap, band"
   ]
  },
  {
   "cell_type": "code",
   "execution_count": 3,
   "metadata": {},
   "outputs": [],
   "source": [
    "DATA = pd.read_excel('DATA.xlsx').rename(columns = {'Unnamed: 0' : \"Time\"})\n",
    "data = DATA"
   ]
  },
  {
   "cell_type": "code",
   "execution_count": 4,
   "metadata": {},
   "outputs": [],
   "source": [
    "country = 'US'\n",
    "\n",
    "nchoice = 2\n",
    "#(1) n: employment\n",
    "#(2) n: hours\n",
    "\n",
    "nint = 1\n",
    "#(1) n=I(1)\n",
    "#(0) n=I(0)\n",
    "\n",
    "difn = 'yes'\n",
    "#'yes' computed correlations based on employment growth\n",
    "#'no' computed correlations based on detrended employment\n",
    "\n",
    "LAGS=4\n",
    "NVAR=2\n",
    "NSTEP= 100\n",
    "NDRAWS= 500\n",
    "NSE = 2\n",
    "IRH = 13\n",
    "NW = 6\n"
   ]
  },
  {
   "cell_type": "code",
   "execution_count": 5,
   "metadata": {},
   "outputs": [],
   "source": [
    "if nchoice==1: labor = 'LHEM' #'employment'\n",
    "elif nchoice==2: labor = 'LPMHU' #'hours'\n",
    "gdp = 'GDPQ'\n",
    "labor_series = data[labor]"
   ]
  },
  {
   "cell_type": "code",
   "execution_count": 6,
   "metadata": {},
   "outputs": [
    {
     "name": "stdout",
     "output_type": "stream",
     "text": [
      "country\n",
      "n: \t {labor} I({nint})\n"
     ]
    }
   ],
   "source": [
    "print(\"country\")\n",
    "print('n: \\t {labor} I({nint})')\n",
    "\n",
    "yx = DATA[gdp]\n",
    "nber = DATA.NBER #Manually entered recession start and end times according to nber\n",
    "nberg = DATA.NBERG\n",
    "\n",
    "nx = DATA[labor]\n",
    "\n",
    "nobs = len(yx)"
   ]
  },
  {
   "cell_type": "code",
   "execution_count": 7,
   "metadata": {},
   "outputs": [
    {
     "data": {
      "text/plain": [
       "0          NaN\n",
       "1          NaN\n",
       "2          NaN\n",
       "3          NaN\n",
       "4    13.765500\n",
       "5    13.913806\n",
       "6    13.859401\n",
       "7    14.067610\n",
       "8    14.211214\n",
       "9    14.404248\n",
       "dtype: float64"
      ]
     },
     "execution_count": 7,
     "metadata": {},
     "output_type": "execute_result"
    }
   ],
   "source": [
    "## AR test stuff\n",
    "xx = yx/nx\n",
    "xx[0:4] = np.nan\n",
    "xx.head(10)"
   ]
  },
  {
   "cell_type": "code",
   "execution_count": null,
   "metadata": {},
   "outputs": [],
   "source": []
  },
  {
   "cell_type": "markdown",
   "metadata": {},
   "source": [
    "# What"
   ]
  },
  {
   "cell_type": "code",
   "execution_count": 8,
   "metadata": {},
   "outputs": [
    {
     "name": "stderr",
     "output_type": "stream",
     "text": [
      "C:\\Users\\joshu\\AppData\\Local\\Temp\\ipykernel_24360\\2407165987.py:3: SettingWithCopyWarning: \n",
      "A value is trying to be set on a copy of a slice from a DataFrame\n",
      "\n",
      "See the caveats in the documentation: https://pandas.pydata.org/pandas-docs/stable/user_guide/indexing.html#returning-a-view-versus-a-copy\n",
      "  data['n'][0:4] = np.nan\n",
      "C:\\Users\\joshu\\AppData\\Local\\Temp\\ipykernel_24360\\2407165987.py:5: SettingWithCopyWarning: \n",
      "A value is trying to be set on a copy of a slice from a DataFrame\n",
      "\n",
      "See the caveats in the documentation: https://pandas.pydata.org/pandas-docs/stable/user_guide/indexing.html#returning-a-view-versus-a-copy\n",
      "  data['dn'][0:5] = np.nan\n",
      "C:\\Users\\joshu\\AppData\\Local\\Temp\\ipykernel_24360\\2407165987.py:9: SettingWithCopyWarning: \n",
      "A value is trying to be set on a copy of a slice from a DataFrame\n",
      "\n",
      "See the caveats in the documentation: https://pandas.pydata.org/pandas-docs/stable/user_guide/indexing.html#returning-a-view-versus-a-copy\n",
      "  data['y'][0:4] = np.nan\n",
      "C:\\Users\\joshu\\AppData\\Local\\Temp\\ipykernel_24360\\2407165987.py:11: SettingWithCopyWarning: \n",
      "A value is trying to be set on a copy of a slice from a DataFrame\n",
      "\n",
      "See the caveats in the documentation: https://pandas.pydata.org/pandas-docs/stable/user_guide/indexing.html#returning-a-view-versus-a-copy\n",
      "  data['dy'][0:5] = np.nan\n",
      "C:\\Users\\joshu\\AppData\\Local\\Temp\\ipykernel_24360\\2407165987.py:15: SettingWithCopyWarning: \n",
      "A value is trying to be set on a copy of a slice from a DataFrame\n",
      "\n",
      "See the caveats in the documentation: https://pandas.pydata.org/pandas-docs/stable/user_guide/indexing.html#returning-a-view-versus-a-copy\n",
      "  data['x'][0:4] = np.nan\n",
      "C:\\Users\\joshu\\AppData\\Local\\Temp\\ipykernel_24360\\2407165987.py:17: SettingWithCopyWarning: \n",
      "A value is trying to be set on a copy of a slice from a DataFrame\n",
      "\n",
      "See the caveats in the documentation: https://pandas.pydata.org/pandas-docs/stable/user_guide/indexing.html#returning-a-view-versus-a-copy\n",
      "  data['dx'][0:5] = np.nan\n"
     ]
    }
   ],
   "source": [
    "data['dlabor'] = np.log(data[labor]) - np.log(data[labor].shift(1))\n",
    "data['n'] = 100 + np.log(data[labor]/data[labor][4]) * 100\n",
    "data['n'][0:4] = np.nan\n",
    "data['dn'] = data['dlabor']*100\n",
    "data['dn'][0:5] = np.nan\n",
    "\n",
    "data['dgdp'] = np.log(data[gdp]) - np.log(data[gdp].shift(1))\n",
    "data['y'] = 100 + np.log(data[gdp]/data[gdp][4]) * 100\n",
    "data['y'][0:4] = np.nan\n",
    "data['dy'] = data['dgdp']*100\n",
    "data['dy'][0:5] = np.nan\n",
    "\n",
    "data['xx'] = data[gdp].div(data[labor])\n",
    "data['x'] = 100 + np.log(data['xx']/data['xx'][4]) * 100\n",
    "data['x'][0:4] = np.nan\n",
    "data['dx'] = (np.log(data['xx']) - np.log(data['xx'].shift(1)))*100\n",
    "data['dx'][0:5] = np.nan"
   ]
  },
  {
   "cell_type": "markdown",
   "metadata": {},
   "source": []
  },
  {
   "cell_type": "code",
   "execution_count": 9,
   "metadata": {},
   "outputs": [
    {
     "data": {
      "text/plain": [
       "-0.2576565306027087"
      ]
     },
     "execution_count": 9,
     "metadata": {},
     "output_type": "execute_result"
    }
   ],
   "source": [
    "## Correlation coefficeint\n",
    "np.corrcoef(data.dx.dropna(),data.dn.dropna())[0,1]"
   ]
  },
  {
   "cell_type": "code",
   "execution_count": 10,
   "metadata": {},
   "outputs": [
    {
     "name": "stdout",
     "output_type": "stream",
     "text": [
      "  Summary of Regression Results   \n",
      "==================================\n",
      "Model:                         VAR\n",
      "Method:                        OLS\n",
      "Date:           Fri, 20, Sep, 2024\n",
      "Time:                     17:59:32\n",
      "--------------------------------------------------------------------\n",
      "No. of Equations:         3.00000    BIC:                   -15.8631\n",
      "Nobs:                     183.000    HQIC:                  -16.2699\n",
      "Log likelihood:           774.064    FPE:                6.51617e-08\n",
      "AIC:                     -16.5471    Det(Omega_mle):     5.30368e-08\n",
      "--------------------------------------------------------------------\n",
      "Results for equation dy\n",
      "==============================================================================\n",
      "                 coefficient       std. error           t-stat            prob\n",
      "------------------------------------------------------------------------------\n",
      "const               0.465630         0.109890            4.237           0.000\n",
      "L1.dy   -292680945965.083374   2474924.262328      -118258.547           0.000\n",
      "L1.dn    292680945965.695374   2447913.706327       119563.425           0.000\n",
      "L1.dx    292680945965.292419   2489310.496196       117575.106           0.000\n",
      "L2.dy    403815097353.501465              NAN              NAN             NAN\n",
      "L2.dn   -403815097353.883789              NAN              NAN             NAN\n",
      "L2.dx   -403815097353.274292              NAN              NAN             NAN\n",
      "L3.dy    -48277694000.080956    878311.845587       -54966.461           0.000\n",
      "L3.dn     48277694000.312546    876227.004928        55097.245           0.000\n",
      "L3.dx     48277694000.141586    886007.625263        54489.028           0.000\n",
      "L4.dy   1182249949855.112305   2571985.853346       459664.251           0.000\n",
      "L4.dn  -1182249949855.275879   2571985.853346      -459664.251           0.000\n",
      "L4.dx  -1182249949855.057373   2571985.853346      -459664.251           0.000\n",
      "==============================================================================\n",
      "\n",
      "Results for equation dn\n",
      "==============================================================================\n",
      "                 coefficient       std. error           t-stat            prob\n",
      "------------------------------------------------------------------------------\n",
      "const               0.077087         0.082852            0.930           0.352\n",
      "L1.dy   -104826708578.998184   1865971.139838       -56178.097           0.000\n",
      "L1.dn    104826708579.731247   1845606.509398        56797.973           0.000\n",
      "L1.dx    104826708579.304352   1876817.652443        55853.433           0.000\n",
      "L2.dy    579928756781.554199              NAN              NAN             NAN\n",
      "L2.dn   -579928756781.709595              NAN              NAN             NAN\n",
      "L2.dx   -579928756781.504028              NAN              NAN             NAN\n",
      "L3.dy   -104920005094.424469    662203.923001      -158440.628           0.000\n",
      "L3.dn    104920005094.544327    660632.055707       158817.611           0.000\n",
      "L3.dx    104920005094.451981    668006.162282       157064.427           0.000\n",
      "L4.dy   1312126469474.789795   1939150.804519       676650.040           0.000\n",
      "L4.dn  -1312126469474.937500   1939150.804519      -676650.040           0.000\n",
      "L4.dx  -1312126469474.744141   1939150.804519      -676650.040           0.000\n",
      "==============================================================================\n",
      "\n",
      "Results for equation dx\n",
      "=============================================================================\n",
      "                coefficient       std. error           t-stat            prob\n",
      "-----------------------------------------------------------------------------\n",
      "const              0.388543         0.084760            4.584           0.000\n",
      "L1.dy  -187854237385.373291   1908937.414399       -98407.751           0.000\n",
      "L1.dn   187854237385.252319   1888103.863361        99493.593           0.000\n",
      "L1.dx   187854237385.276550   1920033.681263        97839.032           0.000\n",
      "L2.dy  -176113659427.551239              NAN              NAN             NAN\n",
      "L2.dn   176113659427.324432              NAN              NAN             NAN\n",
      "L2.dx   176113659427.728058              NAN              NAN             NAN\n",
      "L3.dy    56642311094.676056    677451.980682        83610.813           0.000\n",
      "L3.dn   -56642311094.564117    675843.919216       -83809.752           0.000\n",
      "L3.dx   -56642311094.642914    683387.823640       -82884.578           0.000\n",
      "L4.dy  -129876519619.528870   1983802.130632       -65468.485           0.000\n",
      "L4.dn   129876519619.512543   1983802.130632        65468.485           0.000\n",
      "L4.dx   129876519619.538147   1983802.130632        65468.485           0.000\n",
      "=============================================================================\n",
      "\n",
      "Correlation matrix of residuals\n",
      "            dy        dn        dx\n",
      "dy    1.000000  0.645628  0.665427\n",
      "dn    0.645628  1.000000 -0.140420\n",
      "dx    0.665427 -0.140420  1.000000\n",
      "\n",
      "\n",
      "\n"
     ]
    },
    {
     "name": "stderr",
     "output_type": "stream",
     "text": [
      "c:\\Users\\joshu\\miniconda3\\Lib\\site-packages\\statsmodels\\tsa\\base\\tsa_model.py:473: ValueWarning: An unsupported index was provided and will be ignored when e.g. forecasting.\n",
      "  self._init_dates(dates, freq)\n",
      "c:\\Users\\joshu\\miniconda3\\Lib\\site-packages\\statsmodels\\tsa\\vector_ar\\var_model.py:1559: RuntimeWarning: invalid value encountered in sqrt\n",
      "  stderr = np.sqrt(np.diag(self.cov_params()))\n"
     ]
    }
   ],
   "source": [
    "# Fit the VAR model on dy, dn, and dx\n",
    "vard = data[['dy', 'dn', 'dx']].dropna()\n",
    "model = VAR(vard)\n",
    "var_results = model.fit(maxlags=4)  # Use maxlags similar to the RATS code, adjust as needed\n",
    "\n",
    "# Check the summary\n",
    "print(var_results.summary())"
   ]
  },
  {
   "cell_type": "markdown",
   "metadata": {},
   "source": [
    "HP filter"
   ]
  },
  {
   "cell_type": "code",
   "execution_count": 11,
   "metadata": {},
   "outputs": [],
   "source": [
    "# Apply HP filter to GDP and labor data\n",
    "y_cycle, y_trend = hpfilter(data.y.dropna(), lamb=1600)\n",
    "n_cycle, n_trend = hpfilter(data.n.dropna(), lamb=1600)\n",
    "x_cycle, x_trend = hpfilter(data.x.dropna(), lamb=1600)"
   ]
  },
  {
   "cell_type": "code",
   "execution_count": 12,
   "metadata": {},
   "outputs": [
    {
     "data": {
      "text/plain": [
       "-0.2915678957131867"
      ]
     },
     "execution_count": 12,
     "metadata": {},
     "output_type": "execute_result"
    }
   ],
   "source": [
    "np.corrcoef(x_cycle,n_cycle)[0,1]"
   ]
  },
  {
   "cell_type": "code",
   "execution_count": 13,
   "metadata": {},
   "outputs": [],
   "source": [
    "vdata = data[['y', 'n', 'x']].dropna().reset_index(drop=True)"
   ]
  },
  {
   "cell_type": "code",
   "execution_count": 14,
   "metadata": {},
   "outputs": [],
   "source": [
    "model = VAR(vdata)\n",
    "var_results = model.fit(maxlags=4)"
   ]
  },
  {
   "cell_type": "markdown",
   "metadata": {},
   "source": [
    "# Conditional Corr"
   ]
  },
  {
   "cell_type": "code",
   "execution_count": 15,
   "metadata": {},
   "outputs": [
    {
     "name": "stderr",
     "output_type": "stream",
     "text": [
      "c:\\Users\\joshu\\miniconda3\\Lib\\site-packages\\statsmodels\\tsa\\base\\tsa_model.py:473: ValueWarning: An unsupported index was provided and will be ignored when e.g. forecasting.\n",
      "  self._init_dates(dates, freq)\n"
     ]
    }
   ],
   "source": [
    "import numpy as np\n",
    "import pandas as pd\n",
    "from statsmodels.tsa.api import VAR\n",
    "from numpy.linalg import cholesky\n",
    "\n",
    "\n",
    "# Assuming 'data' contains the variables 'dx' and 'dn'\n",
    "# 'lags' is the number of lags in the VAR model\n",
    "varD = data[['dx', 'dn']].dropna()\n",
    "model = VAR(varD)\n",
    "var_results = model.fit(maxlags=4)  # Replace with the appropriate number of lags\n",
    "residuals = var_results.resid  # Residuals are needed for shocks\n",
    "\n",
    "# Get covariance of the residuals\n",
    "sigmatR = var_results.sigma_u\n",
    "sigmat = sigmatR.copy()\n",
    "sigmat['dx'] = [0.43114, -0.06029]\n",
    "sigmat['dn'] = [np.nan, 0.42170]"
   ]
  },
  {
   "cell_type": "code",
   "execution_count": 16,
   "metadata": {},
   "outputs": [
    {
     "data": {
      "text/html": [
       "<div>\n",
       "<style scoped>\n",
       "    .dataframe tbody tr th:only-of-type {\n",
       "        vertical-align: middle;\n",
       "    }\n",
       "\n",
       "    .dataframe tbody tr th {\n",
       "        vertical-align: top;\n",
       "    }\n",
       "\n",
       "    .dataframe thead th {\n",
       "        text-align: right;\n",
       "    }\n",
       "</style>\n",
       "<table border=\"1\" class=\"dataframe\">\n",
       "  <thead>\n",
       "    <tr style=\"text-align: right;\">\n",
       "      <th></th>\n",
       "      <th>dx</th>\n",
       "      <th>dn</th>\n",
       "    </tr>\n",
       "  </thead>\n",
       "  <tbody>\n",
       "    <tr>\n",
       "      <th>dx</th>\n",
       "      <td>0.43114</td>\n",
       "      <td>NaN</td>\n",
       "    </tr>\n",
       "    <tr>\n",
       "      <th>dn</th>\n",
       "      <td>-0.06029</td>\n",
       "      <td>0.4217</td>\n",
       "    </tr>\n",
       "  </tbody>\n",
       "</table>\n",
       "</div>"
      ],
      "text/plain": [
       "         dx      dn\n",
       "dx  0.43114     NaN\n",
       "dn -0.06029  0.4217"
      ]
     },
     "execution_count": 16,
     "metadata": {},
     "output_type": "execute_result"
    }
   ],
   "source": [
    "sigmat"
   ]
  },
  {
   "cell_type": "code",
   "execution_count": 17,
   "metadata": {},
   "outputs": [],
   "source": [
    "# Suppose 'sigmat' is the covariance matrix of the residuals from the VAR model\n",
    "from numpy.linalg import inv, cholesky\n",
    "\n",
    "##### NEED TO SOLVE\n",
    "emats = np.array([[0.88916, -0.49740], [0.86501, 1.73441]])\n",
    "\n",
    "# Cholesky decomposition to get the lower triangular matrix\n",
    "cmats = emats*np.array(sigmat)*emats.T\n",
    "\n",
    "# Equivalent to RATS `smat = inv(emats)*cmats` assuming emats is the identity matrix\n",
    "smat = cmats  # This is already a lower triangular matrix\n",
    "\n",
    "# Invert smat to get sinv (similar to RATS code)\n",
    "sinv = inv(smat)"
   ]
  },
  {
   "cell_type": "code",
   "execution_count": 18,
   "metadata": {},
   "outputs": [
    {
     "name": "stdout",
     "output_type": "stream",
     "text": [
      "[[ 0.65661252  0.        ]\n",
      " [-0.09181975  0.64286012]]\n",
      "[[ 0.88916  0.86501]\n",
      " [-0.4974   1.73441]]\n",
      "[[0.34086166        nan]\n",
      " [0.02594013 1.26854868]]\n"
     ]
    }
   ],
   "source": [
    "print(cholesky(np.array(sigmat)))\n",
    "print(emats.T)\n",
    "print(cmats)"
   ]
  },
  {
   "cell_type": "code",
   "execution_count": 22,
   "metadata": {},
   "outputs": [
    {
     "name": "stderr",
     "output_type": "stream",
     "text": [
      "c:\\Users\\joshu\\miniconda3\\Lib\\site-packages\\statsmodels\\tsa\\base\\tsa_model.py:473: ValueWarning: An unsupported index was provided and will be ignored when e.g. forecasting.\n",
      "  self._init_dates(dates, freq)\n"
     ]
    }
   ],
   "source": [
    "from statsmodels.tsa.vector_ar.svar_model import SVAR\n",
    "# Now, we set up the matrices needed for identification\n",
    "A = np.array([['E', 0],\n",
    "              ['E', 'E']])\n",
    "\n",
    "# We can estimate the SVAR with the long-run restriction using statsmodels\n",
    "svar_model = SVAR(varD, svar_type='A', A=A)"
   ]
  },
  {
   "cell_type": "code",
   "execution_count": 96,
   "metadata": {},
   "outputs": [
    {
     "data": {
      "text/plain": [
       "array([[ 0.8745587 ,  0.        ],\n",
       "       [-0.55762461,  0.48059392]])"
      ]
     },
     "execution_count": 96,
     "metadata": {},
     "output_type": "execute_result"
    }
   ],
   "source": [
    "cholesky(C)"
   ]
  },
  {
   "cell_type": "code",
   "execution_count": 35,
   "metadata": {},
   "outputs": [],
   "source": [
    "res_varlr = varlr(varD)\n",
    "b = res_varlr[0]\n",
    "Sig = res_varlr[1]\n",
    "B = res_varlr[2]"
   ]
  },
  {
   "cell_type": "code",
   "execution_count": 40,
   "metadata": {},
   "outputs": [],
   "source": [
    "irfs = irflr(b,B,100)"
   ]
  },
  {
   "cell_type": "code",
   "execution_count": 41,
   "metadata": {},
   "outputs": [],
   "source": [
    "svar_results = svar_model.fit(maxlags = 4)\n",
    "\n",
    "# Step 7: Obtain the structural MA representation (Impulse Responses)\n",
    "nsteps = 100  # Number of periods for impulse responses\n",
    "#irf = svar_results.irf(nsteps)\n",
    "\n",
    "# Get the impulse response functions\n",
    "#irfs = irf.irfs  # Shape: (nsteps+1, nvars, nvars)\n",
    "\n",
    "# Step 8: Compute the MA coefficients (Cumulative Impulse Responses)\n",
    "# Since we need the cumulative sum for levels\n",
    "cum_irfs = np.cumsum(irfs, axis=0)"
   ]
  },
  {
   "cell_type": "code",
   "execution_count": 50,
   "metadata": {},
   "outputs": [
    {
     "data": {
      "text/plain": [
       "array([5.91286779e-01, 3.30238756e-02, 1.90745455e-02, 1.09841788e-02,\n",
       "       6.32530414e-03, 3.64246370e-03, 2.09753421e-03, 1.20787745e-03,\n",
       "       6.95563355e-04, 4.00544261e-04, 2.30655776e-04, 1.32824489e-04,\n",
       "       7.64877657e-05, 4.40459311e-05, 2.53641093e-05, 1.46060720e-05,\n",
       "       8.41099270e-06, 4.84351977e-06, 2.78916943e-06, 1.60615967e-06,\n",
       "       9.24916522e-07, 5.32618636e-07, 3.06711583e-07, 1.76621675e-07,\n",
       "       1.01708633e-07, 5.85695165e-08, 3.37276016e-08, 1.94222384e-08,\n",
       "       1.11844105e-08, 6.44060879e-09, 3.70886257e-09, 2.13577039e-09,\n",
       "       1.22989598e-09, 7.08242855e-10, 4.07845826e-10, 2.34860425e-10,\n",
       "       1.35245761e-10, 7.78820695e-11, 4.48488492e-11, 2.58264744e-11,\n",
       "       1.48723276e-11, 8.56431760e-12, 4.93181281e-12, 2.84001350e-12,\n",
       "       1.63543853e-12, 9.41776926e-13, 5.42327798e-13, 3.12302662e-13,\n",
       "       1.79841330e-13, 1.03562691e-13, 5.96371866e-14, 3.43424257e-14,\n",
       "       1.97762884e-14, 1.13882924e-14, 6.55801535e-15, 3.77647182e-15,\n",
       "       2.17470358e-15, 1.25231589e-15, 7.21153490e-16, 4.15280492e-16,\n",
       "       2.39141721e-16, 1.37711171e-16, 7.93017901e-17, 4.56664037e-17,\n",
       "       2.62972680e-17, 1.51434369e-17, 8.72043747e-18, 5.02171536e-18,\n",
       "       2.89178442e-18, 1.66525112e-18, 9.58944679e-19, 5.52213951e-19,\n",
       "       3.17995661e-19, 1.83119677e-19, 1.05450547e-19, 6.07243193e-20,\n",
       "       3.49684575e-20, 2.01367926e-20, 1.15958908e-20, 6.67756212e-21,\n",
       "       3.84531354e-21, 2.21434649e-21, 1.27514449e-21, 7.34299475e-22,\n",
       "       4.22850685e-22, 2.43501061e-22, 1.40221523e-22, 8.07473911e-23,\n",
       "       4.64988615e-23, 2.67766437e-23, 1.54194882e-23, 8.87940327e-24,\n",
       "       5.11325676e-24, 2.94449907e-24, 1.69560716e-24, 9.76425385e-25,\n",
       "       5.62280318e-25, 3.23792438e-25, 1.86457786e-25, 1.07372816e-25,\n",
       "       6.18312695e-26])"
      ]
     },
     "execution_count": 50,
     "metadata": {},
     "output_type": "execute_result"
    }
   ],
   "source": [
    "irfs[0]"
   ]
  },
  {
   "cell_type": "code",
   "execution_count": 51,
   "metadata": {},
   "outputs": [
    {
     "name": "stdout",
     "output_type": "stream",
     "text": [
      "Conditional Correlation (Technology Shock): -0.9752064225354574\n",
      "Conditional Correlation (Non-Technology Shock): 0.2690091002241587\n"
     ]
    }
   ],
   "source": [
    "\n",
    "# Step 9: Compute conditional variances and covariances using MA coefficients\n",
    "# For productivity ('dx') and hours ('dnz')\n",
    "\n",
    "# Extract MA coefficients for 'dx' and 'dnz' responses to each shock\n",
    "# Let's denote:\n",
    "# - C_11: response of 'dx' to technology shock\n",
    "# - C_12: response of 'dx' to non-technology shock\n",
    "# - C_21: response of 'dnz' to technology shock\n",
    "# - C_22: response of 'dnz' to non-technology shock\n",
    "\n",
    "C_11 = irfs[0]  # 'dx' response to tech shock\n",
    "C_12 = irfs[2]  # 'dx' response to non-tech shock\n",
    "C_21 = irfs[1]  # 'dnz' response to tech shock\n",
    "C_22 = irfs[3]  # 'dnz' response to non-tech shock\n",
    "\n",
    "# Compute variances of 'dx' and 'dnz' for each component\n",
    "# Variance due to technology shock\n",
    "var_dx_tech = np.sum(C_11 ** 2)\n",
    "var_dnz_tech = np.sum(C_21 ** 2)\n",
    "cov_dx_dnz_tech = np.sum(C_11 * C_21)\n",
    "\n",
    "# Variance due to non-technology shock\n",
    "var_dx_nontech = np.sum(C_12 ** 2)\n",
    "var_dnz_nontech = np.sum(C_22 ** 2)\n",
    "cov_dx_dnz_nontech = np.sum(C_12 * C_22)\n",
    "\n",
    "# Compute conditional correlations\n",
    "corr_tech = cov_dx_dnz_tech / np.sqrt(var_dx_tech * var_dnz_tech)\n",
    "corr_nontech = cov_dx_dnz_nontech / np.sqrt(var_dx_nontech * var_dnz_nontech)\n",
    "\n",
    "print(\"Conditional Correlation (Technology Shock):\", corr_tech)\n",
    "print(\"Conditional Correlation (Non-Technology Shock):\", corr_nontech)\n",
    "\n",
    "# Step 10: Generate Figure 1 - Scatter plots of innovations\n",
    "# Obtain structural shocks (innovations)\n",
    "epsilon = svar_results.resid\n",
    "\n",
    "# Note: Since the shocks are already estimated, we can use them directly\n",
    "\n"
   ]
  },
  {
   "cell_type": "code",
   "execution_count": 46,
   "metadata": {},
   "outputs": [
    {
     "data": {
      "text/plain": [
       "0.5912867789520173"
      ]
     },
     "execution_count": 46,
     "metadata": {},
     "output_type": "execute_result"
    }
   ],
   "source": [
    "C_11"
   ]
  },
  {
   "cell_type": "markdown",
   "metadata": {},
   "source": [
    "# -----------------------------"
   ]
  },
  {
   "cell_type": "code",
   "execution_count": 23,
   "metadata": {},
   "outputs": [
    {
     "data": {
      "text/plain": [
       "Text(0.5, 1.0, 'Data')"
      ]
     },
     "execution_count": 23,
     "metadata": {},
     "output_type": "execute_result"
    },
    {
     "data": {
      "image/png": "[encoded data removed]",
      "text/plain": [
       "<Figure size 640x480 with 1 Axes>"
      ]
     },
     "metadata": {},
     "output_type": "display_data"
    }
   ],
   "source": [
    "ax = sns.scatterplot(\n",
    "    data=data[['dn','dx']].dropna(), \n",
    "    x='dn', \n",
    "    y='dx', \n",
    "    marker='s',        # 's' is the marker style for squares\n",
    "    color='black',     # Set color to black\n",
    "    edgecolor='black'  # Set edge color to black (useful if the color of the marker is different)\n",
    ")\n",
    "\n",
    "plt.xlabel('Hours', fontsize=14)\n",
    "plt.ylabel('Productivity', fontsize=14)\n",
    "plt.title('Data', fontsize=16)"
   ]
  },
  {
   "cell_type": "code",
   "execution_count": 37,
   "metadata": {},
   "outputs": [
    {
     "ename": "IndexError",
     "evalue": "only integers, slices (`:`), ellipsis (`...`), numpy.newaxis (`None`) and integer or boolean arrays are valid indices",
     "output_type": "error",
     "traceback": [
      "\u001b[1;31m---------------------------------------------------------------------------\u001b[0m",
      "\u001b[1;31mIndexError\u001b[0m                                Traceback (most recent call last)",
      "Cell \u001b[1;32mIn[37], line 13\u001b[0m\n\u001b[0;32m      9\u001b[0m plt\u001b[38;5;241m.\u001b[39mylabel(\u001b[38;5;124m'\u001b[39m\u001b[38;5;124mNon-Technology Shock\u001b[39m\u001b[38;5;124m'\u001b[39m)\n\u001b[0;32m     11\u001b[0m \u001b[38;5;66;03m# Scatter plot of contributions to 'dx' and 'dnz' due to technology shock\u001b[39;00m\n\u001b[0;32m     12\u001b[0m \u001b[38;5;66;03m# Compute contributions at each point in time using MA coefficients\u001b[39;00m\n\u001b[1;32m---> 13\u001b[0m dx_tech \u001b[38;5;241m=\u001b[39m \u001b[43msvar_results\u001b[49m\u001b[38;5;241;43m.\u001b[39;49m\u001b[43mfittedvalues\u001b[49m\u001b[43m[\u001b[49m\u001b[38;5;124;43m'\u001b[39;49m\u001b[38;5;124;43mdx\u001b[39;49m\u001b[38;5;124;43m'\u001b[39;49m\u001b[43m]\u001b[49m\n\u001b[0;32m     14\u001b[0m dnz_tech \u001b[38;5;241m=\u001b[39m svar_results\u001b[38;5;241m.\u001b[39mfittedvalues[\u001b[38;5;124m'\u001b[39m\u001b[38;5;124mdnz\u001b[39m\u001b[38;5;124m'\u001b[39m]\n\u001b[0;32m     16\u001b[0m \u001b[38;5;66;03m# Since we cannot directly get the contributions from statsmodels, we can approximate\u001b[39;00m\n\u001b[0;32m     17\u001b[0m \u001b[38;5;66;03m# For illustration purposes, we can plot the innovations\u001b[39;00m\n",
      "\u001b[1;31mIndexError\u001b[0m: only integers, slices (`:`), ellipsis (`...`), numpy.newaxis (`None`) and integer or boolean arrays are valid indices"
     ]
    },
    {
     "data": {
      "image/png": "[encoded data removed]",
      "text/plain": [
       "<Figure size 1200x800 with 1 Axes>"
      ]
     },
     "metadata": {},
     "output_type": "display_data"
    }
   ],
   "source": [
    "# Generate scatter plots of the structural shocks\n",
    "plt.figure(figsize=(12, 8))\n",
    "\n",
    "# Technology shock component\n",
    "plt.subplot(2, 1, 1)\n",
    "plt.scatter(epsilon[:, 0], epsilon[:, 1], alpha=0.5)\n",
    "plt.title('Structural Innovations')\n",
    "plt.xlabel('Technology Shock')\n",
    "plt.ylabel('Non-Technology Shock')\n",
    "\n",
    "# Scatter plot of contributions to 'dx' and 'dnz' due to technology shock\n",
    "# Compute contributions at each point in time using MA coefficients\n",
    "dx_tech = svar_results.fittedvalues['dx']\n",
    "dnz_tech = svar_results.fittedvalues['dnz']\n",
    "\n",
    "# Since we cannot directly get the contributions from statsmodels, we can approximate\n",
    "# For illustration purposes, we can plot the innovations\n",
    "plt.subplot(2, 1, 2)\n",
    "plt.scatter(epsilon.iloc[:, 0], epsilon.iloc[:, 1], alpha=0.5)\n",
    "plt.title('Contributions of Shocks to Variables')\n",
    "plt.xlabel('Tech Shock Contribution to dx')\n",
    "plt.ylabel('Tech Shock Contribution to dnz')\n",
    "\n",
    "plt.tight_layout()\n",
    "plt.show()\n",
    "\n",
    "# Step 11: Generate Figure 2 - Impulse Responses\n",
    "# Plot the impulse responses using the MA coefficients\n",
    "\n",
    "# Impulse Response of 'dx' to Technology and Non-Technology Shocks\n",
    "plt.figure(figsize=(12, 6))\n",
    "plt.plot(irfs[:, 0, 0], label='dx response to Technology Shock')\n",
    "plt.plot(irfs[:, 0, 1], label='dx response to Non-Technology Shock')\n",
    "plt.title('Impulse Responses of dx')\n",
    "plt.xlabel('Periods')\n",
    "plt.ylabel('Response')\n",
    "plt.legend()\n",
    "plt.show()\n",
    "\n",
    "# Impulse Response of 'dnz' to Technology and Non-Technology Shocks\n",
    "plt.figure(figsize=(12, 6))\n",
    "plt.plot(irfs[:, 1, 0], label='dnz response to Technology Shock')\n",
    "plt.plot(irfs[:, 1, 1], label='dnz response to Non-Technology Shock')\n",
    "plt.title('Impulse Responses of dnz')\n",
    "plt.xlabel('Periods')\n",
    "plt.ylabel('Response')\n",
    "plt.legend()\n",
    "plt.show()\n",
    "\n",
    "# Step 12: Generate Figure 3 - Cumulative Impulse Responses\n",
    "# Plot cumulative impulse responses to see long-run effects\n",
    "\n",
    "# Cumulative Impulse Response of 'dx'\n",
    "plt.figure(figsize=(12, 6))\n",
    "plt.plot(cum_irfs[:, 0, 0], label='Cumulative dx response to Technology Shock')\n",
    "plt.plot(cum_irfs[:, 0, 1], label='Cumulative dx response to Non-Technology Shock')\n",
    "plt.title('Cumulative Impulse Responses of dx')\n",
    "plt.xlabel('Periods')\n",
    "plt.ylabel('Cumulative Response')\n",
    "plt.legend()\n",
    "plt.show()\n",
    "\n",
    "# Cumulative Impulse Response of 'dnz'\n",
    "plt.figure(figsize=(12, 6))\n",
    "plt.plot(cum_irfs[:, 1, 0], label='Cumulative dnz response to Technology Shock')\n",
    "plt.plot(cum_irfs[:, 1, 1], label='Cumulative dnz response to Non-Technology Shock')\n",
    "plt.title('Cumulative Impulse Responses of dnz')\n",
    "plt.xlabel('Periods')\n",
    "plt.ylabel('Cumulative Response')\n",
    "plt.legend()\n",
    "plt.show()"
   ]
  }
 ],
 "metadata": {
  "kernelspec": {
   "display_name": "base",
   "language": "python",
   "name": "python3"
  },
  "language_info": {
   "codemirror_mode": {
    "name": "ipython",
    "version": 3
   },
   "file_extension": ".py",
   "mimetype": "text/x-python",
   "name": "python",
   "nbconvert_exporter": "python",
   "pygments_lexer": "ipython3",
   "version": "3.11.4"
  }
 },
 "nbformat": 4,
 "nbformat_minor": 2
}
